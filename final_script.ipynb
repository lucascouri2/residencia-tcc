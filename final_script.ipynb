{
 "cells": [
  {
   "cell_type": "markdown",
   "metadata": {},
   "source": [
    "# Bibliotecas e leitura dos dados"
   ]
  },
  {
   "cell_type": "code",
   "execution_count": 1,
   "metadata": {},
   "outputs": [
    {
     "name": "stderr",
     "output_type": "stream",
     "text": [
      "c:\\Users\\lucas\\anaconda3\\envs\\tf-gpu\\lib\\site-packages\\tqdm\\auto.py:22: TqdmWarning: IProgress not found. Please update jupyter and ipywidgets. See https://ipywidgets.readthedocs.io/en/stable/user_install.html\n",
      "  from .autonotebook import tqdm as notebook_tqdm\n"
     ]
    }
   ],
   "source": [
    "import preprocessing as pp\n",
    "import load_files as lf\n",
    "import nlp_algorithms as nlp\n",
    "\n",
    "import pandas as pd\n",
    "import numpy as np\n",
    "import time\n",
    "\n",
    "from sentence_transformers import SentenceTransformer"
   ]
  },
  {
   "cell_type": "code",
   "execution_count": 2,
   "metadata": {},
   "outputs": [
    {
     "name": "stderr",
     "output_type": "stream",
     "text": [
      "C:\\Users\\lucas\\AppData\\Local\\Temp\\ipykernel_20500\\4133509158.py:1: FutureWarning: Passing a negative integer is deprecated in version 1.0 and will not be supported in future version. Instead, use None to not limit the column width.\n",
      "  pd.set_option('display.max_colwidth', -1)\n"
     ]
    },
    {
     "data": {
      "text/html": [
       "<div>\n",
       "<style scoped>\n",
       "    .dataframe tbody tr th:only-of-type {\n",
       "        vertical-align: middle;\n",
       "    }\n",
       "\n",
       "    .dataframe tbody tr th {\n",
       "        vertical-align: top;\n",
       "    }\n",
       "\n",
       "    .dataframe thead th {\n",
       "        text-align: right;\n",
       "    }\n",
       "</style>\n",
       "<table border=\"1\" class=\"dataframe\">\n",
       "  <thead>\n",
       "    <tr style=\"text-align: right;\">\n",
       "      <th></th>\n",
       "      <th>url1_lang</th>\n",
       "      <th>url2_lang</th>\n",
       "      <th>pair_id</th>\n",
       "      <th>link1</th>\n",
       "      <th>link2</th>\n",
       "      <th>ia_link1</th>\n",
       "      <th>ia_link2</th>\n",
       "      <th>Geography</th>\n",
       "      <th>Entities</th>\n",
       "      <th>Time</th>\n",
       "      <th>Narrative</th>\n",
       "      <th>Overall</th>\n",
       "      <th>Style</th>\n",
       "      <th>Tone</th>\n",
       "    </tr>\n",
       "  </thead>\n",
       "  <tbody>\n",
       "    <tr>\n",
       "      <th>0</th>\n",
       "      <td>en</td>\n",
       "      <td>en</td>\n",
       "      <td>1484084337_1484110209</td>\n",
       "      <td>https://www.washingtonpost.com/local/virginia-man-arrested-in-fatal-dui-crash-in-west-virginia/2020/01/01/740fbc7a-2cbe-11ea-bffe-020c88b3f120_story.html</td>\n",
       "      <td>https://www.washingtonpost.com/world/the_americas/haitis-leader-marks-independence-day-amid-security-concerns/2020/01/01/dc4033a4-2cc5-11ea-bffe-020c88b3f120_story.html</td>\n",
       "      <td>https://web.archive.org/web/www.washingtonpost.com/local/virginia-man-arrested-in-fatal-dui-crash-in-west-virginia/2020/01/01/740fbc7a-2cbe-11ea-bffe-020c88b3f120_story.html</td>\n",
       "      <td>https://web.archive.org/web/www.washingtonpost.com/world/the_americas/haitis-leader-marks-independence-day-amid-security-concerns/2020/01/01/dc4033a4-2cc5-11ea-bffe-020c88b3f120_story.html</td>\n",
       "      <td>4.0</td>\n",
       "      <td>4.000000</td>\n",
       "      <td>1.000000</td>\n",
       "      <td>4.000000</td>\n",
       "      <td>4.000000</td>\n",
       "      <td>1.666667</td>\n",
       "      <td>2.000000</td>\n",
       "    </tr>\n",
       "    <tr>\n",
       "      <th>1</th>\n",
       "      <td>en</td>\n",
       "      <td>en</td>\n",
       "      <td>1484396422_1483924666</td>\n",
       "      <td>https://www.stlucianewsonline.com/guyana-three-injured-after-car-crashes-into-utility-pole/</td>\n",
       "      <td>https://www.thestar.com/news/world/europe/2020/01/01/fire-kills-animals-at-zoo-in-western-germany.html</td>\n",
       "      <td>https://web.archive.org/web/www.stlucianewsonline.com/guyana-three-injured-after-car-crashes-into-utility-pole/</td>\n",
       "      <td>https://web.archive.org/web/www.thestar.com/news/world/europe/2020/01/01/fire-kills-animals-at-zoo-in-western-germany.html</td>\n",
       "      <td>4.0</td>\n",
       "      <td>4.000000</td>\n",
       "      <td>1.000000</td>\n",
       "      <td>4.000000</td>\n",
       "      <td>3.666667</td>\n",
       "      <td>1.666667</td>\n",
       "      <td>1.333333</td>\n",
       "    </tr>\n",
       "    <tr>\n",
       "      <th>2</th>\n",
       "      <td>en</td>\n",
       "      <td>en</td>\n",
       "      <td>1484698254_1483758694</td>\n",
       "      <td>https://www.teaparty.org/trump-brings-in-2020-at-mar-a-lago-were-going-to-have-a-great-year-423052/</td>\n",
       "      <td>https://www.timesofisrael.com/trump-says-he-does-not-expect-war-with-iran-likes-peace/</td>\n",
       "      <td>https://web.archive.org/web/www.teaparty.org/trump-brings-in-2020-at-mar-a-lago-were-going-to-have-a-great-year-423052/</td>\n",
       "      <td>https://web.archive.org/web/www.timesofisrael.com/trump-says-he-does-not-expect-war-with-iran-likes-peace/</td>\n",
       "      <td>1.0</td>\n",
       "      <td>2.000000</td>\n",
       "      <td>1.000000</td>\n",
       "      <td>2.333333</td>\n",
       "      <td>2.333333</td>\n",
       "      <td>1.000000</td>\n",
       "      <td>1.333333</td>\n",
       "    </tr>\n",
       "    <tr>\n",
       "      <th>3</th>\n",
       "      <td>en</td>\n",
       "      <td>en</td>\n",
       "      <td>1576314516_1576455088</td>\n",
       "      <td>https://gadgets.ndtv.com/apps/news/zomato-uber-eats-business-acquisition-india-all-stock-deal-2167155</td>\n",
       "      <td>https://gadgets.ndtv.com/internet/news/indian-online-food-delivery-market-to-hit-usd-8-billion-by-2020-google-bcg-report-2171043</td>\n",
       "      <td>https://web.archive.org/web/gadgets.ndtv.com/apps/news/zomato-uber-eats-business-acquisition-india-all-stock-deal-2167155</td>\n",
       "      <td>https://web.archive.org/web/gadgets.ndtv.com/internet/news/indian-online-food-delivery-market-to-hit-usd-8-billion-by-2020-google-bcg-report-2171043</td>\n",
       "      <td>1.0</td>\n",
       "      <td>2.333333</td>\n",
       "      <td>2.666667</td>\n",
       "      <td>1.666667</td>\n",
       "      <td>2.000000</td>\n",
       "      <td>1.666667</td>\n",
       "      <td>1.666667</td>\n",
       "    </tr>\n",
       "    <tr>\n",
       "      <th>4</th>\n",
       "      <td>en</td>\n",
       "      <td>en</td>\n",
       "      <td>1484036253_1483894099</td>\n",
       "      <td>https://news.yahoo.com/india-approves-third-moon-mission-085759387.html</td>\n",
       "      <td>https://www.channelnewsasia.com/news/asia/india-targets-new-moon-mission-in-2020-12225344</td>\n",
       "      <td>https://web.archive.org/web/news.yahoo.com/india-approves-third-moon-mission-085759387.html</td>\n",
       "      <td>https://web.archive.org/web/www.channelnewsasia.com/news/asia/india-targets-new-moon-mission-in-2020-12225344</td>\n",
       "      <td>1.0</td>\n",
       "      <td>1.250000</td>\n",
       "      <td>1.000000</td>\n",
       "      <td>1.250000</td>\n",
       "      <td>1.250000</td>\n",
       "      <td>1.000000</td>\n",
       "      <td>1.000000</td>\n",
       "    </tr>\n",
       "  </tbody>\n",
       "</table>\n",
       "</div>"
      ],
      "text/plain": [
       "  url1_lang url2_lang                pair_id  \\\n",
       "0  en        en        1484084337_1484110209   \n",
       "1  en        en        1484396422_1483924666   \n",
       "2  en        en        1484698254_1483758694   \n",
       "3  en        en        1576314516_1576455088   \n",
       "4  en        en        1484036253_1483894099   \n",
       "\n",
       "                                                                                                                                                       link1  \\\n",
       "0  https://www.washingtonpost.com/local/virginia-man-arrested-in-fatal-dui-crash-in-west-virginia/2020/01/01/740fbc7a-2cbe-11ea-bffe-020c88b3f120_story.html   \n",
       "1  https://www.stlucianewsonline.com/guyana-three-injured-after-car-crashes-into-utility-pole/                                                                 \n",
       "2  https://www.teaparty.org/trump-brings-in-2020-at-mar-a-lago-were-going-to-have-a-great-year-423052/                                                         \n",
       "3  https://gadgets.ndtv.com/apps/news/zomato-uber-eats-business-acquisition-india-all-stock-deal-2167155                                                       \n",
       "4  https://news.yahoo.com/india-approves-third-moon-mission-085759387.html                                                                                     \n",
       "\n",
       "                                                                                                                                                                      link2  \\\n",
       "0  https://www.washingtonpost.com/world/the_americas/haitis-leader-marks-independence-day-amid-security-concerns/2020/01/01/dc4033a4-2cc5-11ea-bffe-020c88b3f120_story.html   \n",
       "1  https://www.thestar.com/news/world/europe/2020/01/01/fire-kills-animals-at-zoo-in-western-germany.html                                                                     \n",
       "2  https://www.timesofisrael.com/trump-says-he-does-not-expect-war-with-iran-likes-peace/                                                                                     \n",
       "3  https://gadgets.ndtv.com/internet/news/indian-online-food-delivery-market-to-hit-usd-8-billion-by-2020-google-bcg-report-2171043                                           \n",
       "4  https://www.channelnewsasia.com/news/asia/india-targets-new-moon-mission-in-2020-12225344                                                                                  \n",
       "\n",
       "                                                                                                                                                                        ia_link1  \\\n",
       "0  https://web.archive.org/web/www.washingtonpost.com/local/virginia-man-arrested-in-fatal-dui-crash-in-west-virginia/2020/01/01/740fbc7a-2cbe-11ea-bffe-020c88b3f120_story.html   \n",
       "1  https://web.archive.org/web/www.stlucianewsonline.com/guyana-three-injured-after-car-crashes-into-utility-pole/                                                                 \n",
       "2  https://web.archive.org/web/www.teaparty.org/trump-brings-in-2020-at-mar-a-lago-were-going-to-have-a-great-year-423052/                                                         \n",
       "3  https://web.archive.org/web/gadgets.ndtv.com/apps/news/zomato-uber-eats-business-acquisition-india-all-stock-deal-2167155                                                       \n",
       "4  https://web.archive.org/web/news.yahoo.com/india-approves-third-moon-mission-085759387.html                                                                                     \n",
       "\n",
       "                                                                                                                                                                                       ia_link2  \\\n",
       "0  https://web.archive.org/web/www.washingtonpost.com/world/the_americas/haitis-leader-marks-independence-day-amid-security-concerns/2020/01/01/dc4033a4-2cc5-11ea-bffe-020c88b3f120_story.html   \n",
       "1  https://web.archive.org/web/www.thestar.com/news/world/europe/2020/01/01/fire-kills-animals-at-zoo-in-western-germany.html                                                                     \n",
       "2  https://web.archive.org/web/www.timesofisrael.com/trump-says-he-does-not-expect-war-with-iran-likes-peace/                                                                                     \n",
       "3  https://web.archive.org/web/gadgets.ndtv.com/internet/news/indian-online-food-delivery-market-to-hit-usd-8-billion-by-2020-google-bcg-report-2171043                                           \n",
       "4  https://web.archive.org/web/www.channelnewsasia.com/news/asia/india-targets-new-moon-mission-in-2020-12225344                                                                                  \n",
       "\n",
       "   Geography  Entities      Time  Narrative   Overall     Style      Tone  \n",
       "0  4.0        4.000000  1.000000  4.000000   4.000000  1.666667  2.000000  \n",
       "1  4.0        4.000000  1.000000  4.000000   3.666667  1.666667  1.333333  \n",
       "2  1.0        2.000000  1.000000  2.333333   2.333333  1.000000  1.333333  \n",
       "3  1.0        2.333333  2.666667  1.666667   2.000000  1.666667  1.666667  \n",
       "4  1.0        1.250000  1.000000  1.250000   1.250000  1.000000  1.000000  "
      ]
     },
     "execution_count": 2,
     "metadata": {},
     "output_type": "execute_result"
    }
   ],
   "source": [
    "pd.set_option('display.max_colwidth', -1)\n",
    "\n",
    "train_v1 = pd.read_csv('dados/train v0.1.csv')\n",
    "\n",
    "train_v1_enen = train_v1[(train_v1['url1_lang'] == 'en') & (train_v1['url2_lang'] == 'en')]\n",
    "\n",
    "train_v1_enen.head()"
   ]
  },
  {
   "cell_type": "code",
   "execution_count": 3,
   "metadata": {},
   "outputs": [
    {
     "data": {
      "text/html": [
       "<div>\n",
       "<style scoped>\n",
       "    .dataframe tbody tr th:only-of-type {\n",
       "        vertical-align: middle;\n",
       "    }\n",
       "\n",
       "    .dataframe tbody tr th {\n",
       "        vertical-align: top;\n",
       "    }\n",
       "\n",
       "    .dataframe thead th {\n",
       "        text-align: right;\n",
       "    }\n",
       "</style>\n",
       "<table border=\"1\" class=\"dataframe\">\n",
       "  <thead>\n",
       "    <tr style=\"text-align: right;\">\n",
       "      <th></th>\n",
       "      <th>url1_lang</th>\n",
       "      <th>url2_lang</th>\n",
       "      <th>pair_id</th>\n",
       "      <th>link1</th>\n",
       "      <th>link2</th>\n",
       "      <th>ia_link1</th>\n",
       "      <th>ia_link2</th>\n",
       "      <th>GEO</th>\n",
       "      <th>ENT</th>\n",
       "      <th>TIME</th>\n",
       "      <th>NAR</th>\n",
       "      <th>Overall</th>\n",
       "      <th>STYLE</th>\n",
       "      <th>TONE</th>\n",
       "    </tr>\n",
       "  </thead>\n",
       "  <tbody>\n",
       "    <tr>\n",
       "      <th>0</th>\n",
       "      <td>en</td>\n",
       "      <td>en</td>\n",
       "      <td>1484189203_1484121193</td>\n",
       "      <td>https://wsvn.com/news/local/broward/police-2-men-stole-tools-from-lowes-in-davie/</td>\n",
       "      <td>https://wsvn.com/news/local/no-swim-advisory-lifted-for-deerfield-beach-pier/</td>\n",
       "      <td>https://web.archive.org/web/https://wsvn.com/news/local/broward/police-2-men-stole-tools-from-lowes-in-davie/</td>\n",
       "      <td>https://web.archive.org/web/https://wsvn.com/news/local/no-swim-advisory-lifted-for-deerfield-beach-pier/</td>\n",
       "      <td>1.5</td>\n",
       "      <td>4.0</td>\n",
       "      <td>2.0</td>\n",
       "      <td>4.0</td>\n",
       "      <td>3.5</td>\n",
       "      <td>1.0</td>\n",
       "      <td>1.500000</td>\n",
       "    </tr>\n",
       "    <tr>\n",
       "      <th>1</th>\n",
       "      <td>en</td>\n",
       "      <td>en</td>\n",
       "      <td>1484011097_1484011106</td>\n",
       "      <td>https://www.zdnet.com/article/autoclerk-database-leaked-customer-government-and-military-personal-records/</td>\n",
       "      <td>https://securityboulevard.com/2019/10/best-westerns-massive-data-leak-179gb-amazon-database-open-to-all/</td>\n",
       "      <td>https://web.archive.org/web/https://www.zdnet.com/article/autoclerk-database-leaked-customer-government-and-military-personal-records/</td>\n",
       "      <td>https://web.archive.org/web/https://securityboulevard.com/2019/10/best-westerns-massive-data-leak-179gb-amazon-database-open-to-all/</td>\n",
       "      <td>1.0</td>\n",
       "      <td>2.0</td>\n",
       "      <td>1.0</td>\n",
       "      <td>1.0</td>\n",
       "      <td>1.0</td>\n",
       "      <td>3.5</td>\n",
       "      <td>2.500000</td>\n",
       "    </tr>\n",
       "    <tr>\n",
       "      <th>2</th>\n",
       "      <td>en</td>\n",
       "      <td>en</td>\n",
       "      <td>1484039488_1484261803</td>\n",
       "      <td>https://www.presstelegram.com/2019/12/31/ducks-are-own-worst-enemies-in-sloppy-loss-in-las-vegas/</td>\n",
       "      <td>https://boingboing.net/2020/01/01/woody-guthries-1943-new-year.html</td>\n",
       "      <td>https://web.archive.org/web/https://www.presstelegram.com/2019/12/31/ducks-are-own-worst-enemies-in-sloppy-loss-in-las-vegas/</td>\n",
       "      <td>https://web.archive.org/web/https://boingboing.net/2020/01/01/woody-guthries-1943-new-year.html</td>\n",
       "      <td>5.0</td>\n",
       "      <td>4.0</td>\n",
       "      <td>3.0</td>\n",
       "      <td>4.0</td>\n",
       "      <td>4.0</td>\n",
       "      <td>4.0</td>\n",
       "      <td>3.666667</td>\n",
       "    </tr>\n",
       "    <tr>\n",
       "      <th>3</th>\n",
       "      <td>en</td>\n",
       "      <td>en</td>\n",
       "      <td>1484332324_1484796748</td>\n",
       "      <td>https://www.financialexpress.com/india-news/west-bengal-republic-day-tableau-rejected-by-centre-mamata-banerjee-latest-news/1810097/</td>\n",
       "      <td>https://www.news18.com/news/india/not-the-first-congress-did-7-times-bjp-reminds-as-row-over-bengal-maharashtra-r-day-tableau-continues-2443643.html</td>\n",
       "      <td>https://web.archive.org/web/https://www.financialexpress.com/india-news/west-bengal-republic-day-tableau-rejected-by-centre-mamata-banerjee-latest-news/1810097/</td>\n",
       "      <td>https://web.archive.org/web/https://www.news18.com/news/india/not-the-first-congress-did-7-times-bjp-reminds-as-row-over-bengal-maharashtra-r-day-tableau-continues-2443643.html</td>\n",
       "      <td>1.0</td>\n",
       "      <td>1.5</td>\n",
       "      <td>1.0</td>\n",
       "      <td>1.5</td>\n",
       "      <td>1.5</td>\n",
       "      <td>1.5</td>\n",
       "      <td>2.000000</td>\n",
       "    </tr>\n",
       "    <tr>\n",
       "      <th>4</th>\n",
       "      <td>en</td>\n",
       "      <td>en</td>\n",
       "      <td>1484012256_1484419682</td>\n",
       "      <td>https://www.birminghammail.co.uk/whats-on/music-nightlife-news/bars-clubs-you-loved-lost-17492049</td>\n",
       "      <td>http://m.fightbacknews.org/2020/1/1/top-20-films-2010s</td>\n",
       "      <td>https://web.archive.org/web/https://www.birminghammail.co.uk/whats-on/music-nightlife-news/bars-clubs-you-loved-lost-17492049</td>\n",
       "      <td>https://web.archive.org/web/http://m.fightbacknews.org/2020/1/1/top-20-films-2010s</td>\n",
       "      <td>4.0</td>\n",
       "      <td>4.0</td>\n",
       "      <td>1.0</td>\n",
       "      <td>2.5</td>\n",
       "      <td>4.0</td>\n",
       "      <td>2.5</td>\n",
       "      <td>2.500000</td>\n",
       "    </tr>\n",
       "  </tbody>\n",
       "</table>\n",
       "</div>"
      ],
      "text/plain": [
       "  url1_lang url2_lang                pair_id  \\\n",
       "0  en        en        1484189203_1484121193   \n",
       "1  en        en        1484011097_1484011106   \n",
       "2  en        en        1484039488_1484261803   \n",
       "3  en        en        1484332324_1484796748   \n",
       "4  en        en        1484012256_1484419682   \n",
       "\n",
       "                                                                                                                                  link1  \\\n",
       "0  https://wsvn.com/news/local/broward/police-2-men-stole-tools-from-lowes-in-davie/                                                      \n",
       "1  https://www.zdnet.com/article/autoclerk-database-leaked-customer-government-and-military-personal-records/                             \n",
       "2  https://www.presstelegram.com/2019/12/31/ducks-are-own-worst-enemies-in-sloppy-loss-in-las-vegas/                                      \n",
       "3  https://www.financialexpress.com/india-news/west-bengal-republic-day-tableau-rejected-by-centre-mamata-banerjee-latest-news/1810097/   \n",
       "4  https://www.birminghammail.co.uk/whats-on/music-nightlife-news/bars-clubs-you-loved-lost-17492049                                      \n",
       "\n",
       "                                                                                                                                                  link2  \\\n",
       "0  https://wsvn.com/news/local/no-swim-advisory-lifted-for-deerfield-beach-pier/                                                                          \n",
       "1  https://securityboulevard.com/2019/10/best-westerns-massive-data-leak-179gb-amazon-database-open-to-all/                                               \n",
       "2  https://boingboing.net/2020/01/01/woody-guthries-1943-new-year.html                                                                                    \n",
       "3  https://www.news18.com/news/india/not-the-first-congress-did-7-times-bjp-reminds-as-row-over-bengal-maharashtra-r-day-tableau-continues-2443643.html   \n",
       "4  http://m.fightbacknews.org/2020/1/1/top-20-films-2010s                                                                                                 \n",
       "\n",
       "                                                                                                                                                           ia_link1  \\\n",
       "0  https://web.archive.org/web/https://wsvn.com/news/local/broward/police-2-men-stole-tools-from-lowes-in-davie/                                                      \n",
       "1  https://web.archive.org/web/https://www.zdnet.com/article/autoclerk-database-leaked-customer-government-and-military-personal-records/                             \n",
       "2  https://web.archive.org/web/https://www.presstelegram.com/2019/12/31/ducks-are-own-worst-enemies-in-sloppy-loss-in-las-vegas/                                      \n",
       "3  https://web.archive.org/web/https://www.financialexpress.com/india-news/west-bengal-republic-day-tableau-rejected-by-centre-mamata-banerjee-latest-news/1810097/   \n",
       "4  https://web.archive.org/web/https://www.birminghammail.co.uk/whats-on/music-nightlife-news/bars-clubs-you-loved-lost-17492049                                      \n",
       "\n",
       "                                                                                                                                                                           ia_link2  \\\n",
       "0  https://web.archive.org/web/https://wsvn.com/news/local/no-swim-advisory-lifted-for-deerfield-beach-pier/                                                                          \n",
       "1  https://web.archive.org/web/https://securityboulevard.com/2019/10/best-westerns-massive-data-leak-179gb-amazon-database-open-to-all/                                               \n",
       "2  https://web.archive.org/web/https://boingboing.net/2020/01/01/woody-guthries-1943-new-year.html                                                                                    \n",
       "3  https://web.archive.org/web/https://www.news18.com/news/india/not-the-first-congress-did-7-times-bjp-reminds-as-row-over-bengal-maharashtra-r-day-tableau-continues-2443643.html   \n",
       "4  https://web.archive.org/web/http://m.fightbacknews.org/2020/1/1/top-20-films-2010s                                                                                                 \n",
       "\n",
       "   GEO  ENT  TIME  NAR  Overall  STYLE      TONE  \n",
       "0  1.5  4.0  2.0   4.0  3.5      1.0    1.500000  \n",
       "1  1.0  2.0  1.0   1.0  1.0      3.5    2.500000  \n",
       "2  5.0  4.0  3.0   4.0  4.0      4.0    3.666667  \n",
       "3  1.0  1.5  1.0   1.5  1.5      1.5    2.000000  \n",
       "4  4.0  4.0  1.0   2.5  4.0      2.5    2.500000  "
      ]
     },
     "execution_count": 3,
     "metadata": {},
     "output_type": "execute_result"
    }
   ],
   "source": [
    "test = pd.read_csv('dados/final_evaluation_data.csv')\n",
    "\n",
    "test_enen = test[(test['url1_lang'] == 'en') & (test['url2_lang'] == 'en')]\n",
    "\n",
    "test_enen.head()"
   ]
  },
  {
   "cell_type": "code",
   "execution_count": 4,
   "metadata": {},
   "outputs": [
    {
     "data": {
      "text/plain": [
       "(1761, 14)"
      ]
     },
     "execution_count": 4,
     "metadata": {},
     "output_type": "execute_result"
    }
   ],
   "source": [
    "train_v1_enen.shape"
   ]
  },
  {
   "cell_type": "code",
   "execution_count": 5,
   "metadata": {},
   "outputs": [
    {
     "data": {
      "text/plain": [
       "(236, 14)"
      ]
     },
     "execution_count": 5,
     "metadata": {},
     "output_type": "execute_result"
    }
   ],
   "source": [
    "test_enen.shape"
   ]
  },
  {
   "cell_type": "markdown",
   "metadata": {},
   "source": [
    "## Leitura das URLs baixadas para cada dataset (train e test)"
   ]
  },
  {
   "cell_type": "code",
   "execution_count": 6,
   "metadata": {},
   "outputs": [],
   "source": [
    "data_path = 'dados/train v0.1/'\n",
    "\n",
    "lista_docs = []\n",
    "lista_error = []\n",
    "lista_vazio = []\n",
    "values = train_v1_enen[['pair_id', 'Overall']]\n",
    "\n",
    "for index, values in values.iterrows():\n",
    "    \n",
    "    try:\n",
    "        \n",
    "        json_pair = lf.get_json_document_pair(data_path, values['pair_id'])\n",
    "        text_doc1 = json_pair[0]['text']\n",
    "        text_doc2 = json_pair[1]['text']\n",
    "        \n",
    "        if ( len(text_doc1) > 0 ) and ( len(text_doc2) > 0 ):\n",
    "            lista_docs.append((values['pair_id'], text_doc1, text_doc2, values['Overall']))\n",
    "        else:\n",
    "            lista_vazio.append(values['pair_id'])\n",
    "    \n",
    "    except:\n",
    "        lista_error.append(values['pair_id'])"
   ]
  },
  {
   "cell_type": "code",
   "execution_count": 7,
   "metadata": {},
   "outputs": [],
   "source": [
    "df_text = pd.DataFrame(lista_docs,  columns=['pair_id', 'doc1', 'doc2', 'Overall'])"
   ]
  },
  {
   "cell_type": "code",
   "execution_count": 8,
   "metadata": {},
   "outputs": [
    {
     "data": {
      "text/plain": [
       "(1357, 4)"
      ]
     },
     "execution_count": 8,
     "metadata": {},
     "output_type": "execute_result"
    }
   ],
   "source": [
    "df_text.shape"
   ]
  },
  {
   "cell_type": "code",
   "execution_count": 9,
   "metadata": {},
   "outputs": [],
   "source": [
    "data_path = 'dados/output_dir_test_enen/'\n",
    "\n",
    "lista_docs = []\n",
    "lista_error = []\n",
    "lista_vazio = []\n",
    "values = test_enen[['pair_id', 'Overall']]\n",
    "\n",
    "for index, values in values.iterrows():\n",
    "    \n",
    "    try:\n",
    "        \n",
    "        json_pair = lf.get_json_document_pair(data_path, values['pair_id'])\n",
    "        text_doc1 = json_pair[0]['text']\n",
    "        text_doc2 = json_pair[1]['text']\n",
    "        \n",
    "        if ( len(text_doc1) > 0 ) and ( len(text_doc2) > 0 ):\n",
    "            lista_docs.append((values['pair_id'], text_doc1, text_doc2, values['Overall']))\n",
    "        else:\n",
    "            lista_vazio.append(values['pair_id'])\n",
    "    \n",
    "    except:\n",
    "        lista_error.append(values['pair_id'])"
   ]
  },
  {
   "cell_type": "code",
   "execution_count": 10,
   "metadata": {},
   "outputs": [],
   "source": [
    "df_text_test = pd.DataFrame(lista_docs,  columns=['pair_id', 'doc1', 'doc2', 'Overall'])"
   ]
  },
  {
   "cell_type": "code",
   "execution_count": 11,
   "metadata": {},
   "outputs": [
    {
     "data": {
      "text/plain": [
       "(235, 4)"
      ]
     },
     "execution_count": 11,
     "metadata": {},
     "output_type": "execute_result"
    }
   ],
   "source": [
    "df_text_test.shape"
   ]
  },
  {
   "cell_type": "markdown",
   "metadata": {},
   "source": [
    "## Pre-processamento"
   ]
  },
  {
   "cell_type": "code",
   "execution_count": 12,
   "metadata": {},
   "outputs": [],
   "source": [
    "'''pre_processing_list = [\n",
    "    {\"tokenization\": True},\n",
    "    {\"no_url\": True, \"basic_processing\": True, \"tokenization\": True}\n",
    "    ]'''\n",
    "\n",
    "pre_processing_list = [\n",
    "    {\"tokenization\": True}\n",
    "    ]\n",
    "\n",
    "df_pp = pp.pre_process_all(df_text, pre_processing_list)\n",
    "df_pp_test = pp.pre_process_all(df_text_test, pre_processing_list)"
   ]
  },
  {
   "cell_type": "markdown",
   "metadata": {},
   "source": [
    "# Algoritmos"
   ]
  },
  {
   "cell_type": "code",
   "execution_count": 13,
   "metadata": {},
   "outputs": [
    {
     "data": {
      "text/html": [
       "<div>\n",
       "<style scoped>\n",
       "    .dataframe tbody tr th:only-of-type {\n",
       "        vertical-align: middle;\n",
       "    }\n",
       "\n",
       "    .dataframe tbody tr th {\n",
       "        vertical-align: top;\n",
       "    }\n",
       "\n",
       "    .dataframe thead th {\n",
       "        text-align: right;\n",
       "    }\n",
       "</style>\n",
       "<table border=\"1\" class=\"dataframe\">\n",
       "  <thead>\n",
       "    <tr style=\"text-align: right;\">\n",
       "      <th></th>\n",
       "      <th>pair_id</th>\n",
       "      <th>Overall</th>\n",
       "    </tr>\n",
       "  </thead>\n",
       "  <tbody>\n",
       "    <tr>\n",
       "      <th>0</th>\n",
       "      <td>1484189203_1484121193</td>\n",
       "      <td>3.5</td>\n",
       "    </tr>\n",
       "  </tbody>\n",
       "</table>\n",
       "</div>"
      ],
      "text/plain": [
       "                 pair_id  Overall\n",
       "0  1484189203_1484121193  3.5    "
      ]
     },
     "execution_count": 13,
     "metadata": {},
     "output_type": "execute_result"
    }
   ],
   "source": [
    "df_results = df_pp_test[[\"pair_id\", \"Overall\"]]\n",
    "df_results.head(1)"
   ]
  },
  {
   "cell_type": "markdown",
   "metadata": {},
   "source": [
    "## BERT"
   ]
  },
  {
   "cell_type": "code",
   "execution_count": 14,
   "metadata": {},
   "outputs": [
    {
     "data": {
      "text/plain": [
       "[{'tokenization': True}]"
      ]
     },
     "execution_count": 14,
     "metadata": {},
     "output_type": "execute_result"
    }
   ],
   "source": [
    "pre_processing_list"
   ]
  },
  {
   "cell_type": "code",
   "execution_count": 15,
   "metadata": {},
   "outputs": [
    {
     "name": "stderr",
     "output_type": "stream",
     "text": [
      "Iteration: 100%|██████████| 39/39 [00:13<00:00,  2.96it/s]\n",
      "Iteration: 100%|██████████| 39/39 [00:13<00:00,  2.93it/s]\n",
      "Epoch: 100%|██████████| 2/2 [00:26<00:00, 13.41s/it]\n"
     ]
    }
   ],
   "source": [
    "model_name = 'all-MiniLM-L12-v2'\n",
    "#model_name = 'multi-qa-mpnet-base-dot-v1'\n",
    "#model_name = 'all-distilroberta-v1'\n",
    "#model_name = 'all-MiniLM-L12-v2'\n",
    "#model_name = 'multi-qa-distilbert-cos-v1'\n",
    "#model_name = 'all-MiniLM-L6-v2'\n",
    "\n",
    "model = SentenceTransformer('sentence-transformers/'+model_name)\n",
    "\n",
    "(df_bert, time_bert) = nlp.apply_bert(df_pp[:50], df_pp_test, len(pre_processing_list), model, model_name, fine_tune=True)\n",
    "\n",
    "df_results = df_results.join(df_bert)"
   ]
  },
  {
   "cell_type": "code",
   "execution_count": 16,
   "metadata": {},
   "outputs": [],
   "source": [
    "df_bert.to_csv('./resultados/'+model_name+'.csv', index = False)\n",
    "time_bert.to_csv('./resultados/'+model_name+'_time.csv', index = False)"
   ]
  },
  {
   "cell_type": "code",
   "execution_count": 17,
   "metadata": {},
   "outputs": [
    {
     "data": {
      "text/html": [
       "<div>\n",
       "<style scoped>\n",
       "    .dataframe tbody tr th:only-of-type {\n",
       "        vertical-align: middle;\n",
       "    }\n",
       "\n",
       "    .dataframe tbody tr th {\n",
       "        vertical-align: top;\n",
       "    }\n",
       "\n",
       "    .dataframe thead th {\n",
       "        text-align: right;\n",
       "    }\n",
       "</style>\n",
       "<table border=\"1\" class=\"dataframe\">\n",
       "  <thead>\n",
       "    <tr style=\"text-align: right;\">\n",
       "      <th></th>\n",
       "      <th>Overall</th>\n",
       "      <th>bert_all-MiniLM-L12-v20</th>\n",
       "    </tr>\n",
       "  </thead>\n",
       "  <tbody>\n",
       "    <tr>\n",
       "      <th>Overall</th>\n",
       "      <td>1.000000</td>\n",
       "      <td>-0.719582</td>\n",
       "    </tr>\n",
       "    <tr>\n",
       "      <th>bert_all-MiniLM-L12-v20</th>\n",
       "      <td>-0.719582</td>\n",
       "      <td>1.000000</td>\n",
       "    </tr>\n",
       "  </tbody>\n",
       "</table>\n",
       "</div>"
      ],
      "text/plain": [
       "                          Overall  bert_all-MiniLM-L12-v20\n",
       "Overall                  1.000000 -0.719582               \n",
       "bert_all-MiniLM-L12-v20 -0.719582  1.000000               "
      ]
     },
     "execution_count": 17,
     "metadata": {},
     "output_type": "execute_result"
    }
   ],
   "source": [
    "df_results.corr()"
   ]
  },
  {
   "cell_type": "markdown",
   "metadata": {},
   "source": [
    "## USE (Universal Sentence Encoder)"
   ]
  },
  {
   "cell_type": "code",
   "execution_count": 18,
   "metadata": {},
   "outputs": [
    {
     "data": {
      "text/plain": [
       "'pre_processing_list = [\\n    {},\\n    {\"no_url\": True, \"basic_processing\": True}\\n    ]\\n\\ndf_pp = pp.pre_process_all(df_text, pre_processing_list)\\ndf_pp_test = pp.pre_process_all(df_text_test, pre_processing_list)'"
      ]
     },
     "execution_count": 18,
     "metadata": {},
     "output_type": "execute_result"
    }
   ],
   "source": [
    "'''pre_processing_list = [\n",
    "    {},\n",
    "    {\"no_url\": True, \"basic_processing\": True}\n",
    "    ]\n",
    "\n",
    "df_pp = pp.pre_process_all(df_text, pre_processing_list)\n",
    "df_pp_test = pp.pre_process_all(df_text_test, pre_processing_list)'''"
   ]
  },
  {
   "cell_type": "code",
   "execution_count": 19,
   "metadata": {},
   "outputs": [
    {
     "name": "stdout",
     "output_type": "stream",
     "text": [
      "module https://tfhub.dev/google/universal-sentence-encoder/4 loaded\n"
     ]
    }
   ],
   "source": [
    "from absl import logging\n",
    "\n",
    "import tensorflow as tf\n",
    "\n",
    "import tensorflow_hub as hub\n",
    "import numpy as np\n",
    "import os\n",
    "import pandas as pd\n",
    "import re\n",
    "import math\n",
    "import scipy\n",
    "\n",
    "module_url = \"https://tfhub.dev/google/universal-sentence-encoder/4\"\n",
    "model = hub.load(module_url)\n",
    "print (\"module %s loaded\" % module_url)\n",
    "def embed(input):\n",
    "  return model(input)"
   ]
  },
  {
   "cell_type": "code",
   "execution_count": 20,
   "metadata": {},
   "outputs": [
    {
     "name": "stdout",
     "output_type": "stream",
     "text": [
      "Pearson correlation coefficient = -0.6890446935468493\n",
      "p-value = 1.9816840771934977e-34\n"
     ]
    }
   ],
   "source": [
    "doc1_name = 'doc1'\n",
    "doc2_name = 'doc2'\n",
    "\n",
    "sts_data = df_pp_test[['Overall', doc1_name, doc2_name]]#sts_dev\n",
    "\n",
    "def run_sts_benchmark(batch):\n",
    "  start_time = time.time()\n",
    "  sts_encode1 = tf.nn.l2_normalize(embed(tf.constant(batch[doc1_name].tolist())), axis=1)\n",
    "  sts_encode2 = tf.nn.l2_normalize(embed(tf.constant(batch[doc2_name].tolist())), axis=1)\n",
    "\n",
    "  cosine_similarities = tf.reduce_sum(tf.multiply(sts_encode1, sts_encode2), axis=1)\n",
    "  clip_cosine_similarities = tf.clip_by_value(cosine_similarities, -1.0, 1.0)\n",
    "  scores = 1.0 - tf.acos(clip_cosine_similarities) / math.pi\n",
    "  \"\"\"Returns the similarity scores\"\"\"\n",
    "  runtime = time.time()-start_time\n",
    "  return (scores, runtime)\n",
    "\n",
    "dev_scores = sts_data['Overall'].tolist()\n",
    "scores = []\n",
    "#for batch in np.array_split(sts_data, 10):\n",
    "#  (df_use, time_use) = run_sts_benchmark(batch)\n",
    "#  scores.extend(df_use)\n",
    "\n",
    "(df_use, time_use) = run_sts_benchmark(sts_data)\n",
    "scores = df_use\n",
    "\n",
    "pearson_correlation = scipy.stats.pearsonr(scores, dev_scores) #scores= predicted cos_sim, dev_scores = Overall\n",
    "print('Pearson correlation coefficient = {0}\\np-value = {1}'.format(\n",
    "    pearson_correlation[0], pearson_correlation[1]))"
   ]
  },
  {
   "cell_type": "code",
   "execution_count": 21,
   "metadata": {},
   "outputs": [],
   "source": [
    "df_use = pd.DataFrame(df_use.numpy()).rename(columns={0: \"USE\"})"
   ]
  },
  {
   "cell_type": "code",
   "execution_count": 22,
   "metadata": {},
   "outputs": [],
   "source": [
    "df_results = df_results.join(df_use)"
   ]
  },
  {
   "cell_type": "code",
   "execution_count": 23,
   "metadata": {},
   "outputs": [
    {
     "data": {
      "text/html": [
       "<div>\n",
       "<style scoped>\n",
       "    .dataframe tbody tr th:only-of-type {\n",
       "        vertical-align: middle;\n",
       "    }\n",
       "\n",
       "    .dataframe tbody tr th {\n",
       "        vertical-align: top;\n",
       "    }\n",
       "\n",
       "    .dataframe thead th {\n",
       "        text-align: right;\n",
       "    }\n",
       "</style>\n",
       "<table border=\"1\" class=\"dataframe\">\n",
       "  <thead>\n",
       "    <tr style=\"text-align: right;\">\n",
       "      <th></th>\n",
       "      <th>Overall</th>\n",
       "      <th>bert_all-MiniLM-L12-v20</th>\n",
       "      <th>USE</th>\n",
       "    </tr>\n",
       "  </thead>\n",
       "  <tbody>\n",
       "    <tr>\n",
       "      <th>Overall</th>\n",
       "      <td>1.000000</td>\n",
       "      <td>-0.719582</td>\n",
       "      <td>-0.689045</td>\n",
       "    </tr>\n",
       "    <tr>\n",
       "      <th>bert_all-MiniLM-L12-v20</th>\n",
       "      <td>-0.719582</td>\n",
       "      <td>1.000000</td>\n",
       "      <td>0.879100</td>\n",
       "    </tr>\n",
       "    <tr>\n",
       "      <th>USE</th>\n",
       "      <td>-0.689045</td>\n",
       "      <td>0.879100</td>\n",
       "      <td>1.000000</td>\n",
       "    </tr>\n",
       "  </tbody>\n",
       "</table>\n",
       "</div>"
      ],
      "text/plain": [
       "                          Overall  bert_all-MiniLM-L12-v20       USE\n",
       "Overall                  1.000000 -0.719582                -0.689045\n",
       "bert_all-MiniLM-L12-v20 -0.719582  1.000000                 0.879100\n",
       "USE                     -0.689045  0.879100                 1.000000"
      ]
     },
     "execution_count": 23,
     "metadata": {},
     "output_type": "execute_result"
    }
   ],
   "source": [
    "df_results.corr()"
   ]
  },
  {
   "cell_type": "code",
   "execution_count": 24,
   "metadata": {},
   "outputs": [],
   "source": [
    "time_use = pd.DataFrame({\"time_USE\": [time_use,0]})\n",
    "#pd.DataFrame(index={time_use: 0})"
   ]
  },
  {
   "cell_type": "code",
   "execution_count": 25,
   "metadata": {},
   "outputs": [],
   "source": [
    "df_use.to_csv('./resultados/USE.csv', index = False)\n",
    "time_use.to_csv('./resultados/USE_time.csv', index = False)"
   ]
  },
  {
   "cell_type": "code",
   "execution_count": 26,
   "metadata": {},
   "outputs": [
    {
     "data": {
      "text/plain": [
       "235"
      ]
     },
     "execution_count": 26,
     "metadata": {},
     "output_type": "execute_result"
    }
   ],
   "source": [
    "len(scores)"
   ]
  },
  {
   "cell_type": "markdown",
   "metadata": {},
   "source": [
    "## tf-idf"
   ]
  },
  {
   "cell_type": "code",
   "execution_count": 27,
   "metadata": {},
   "outputs": [],
   "source": [
    "#df_results = df_pp_test[[\"pair_id\", \"Overall\"]]\n",
    "#df_results.head(1)"
   ]
  },
  {
   "cell_type": "code",
   "execution_count": 28,
   "metadata": {},
   "outputs": [],
   "source": [
    "'''pre_processing_list = [\n",
    "    {\"tokenization\": True},\n",
    "    {\"no_url\": True, \"basic_processing\": True, \"tokenization\": True}\n",
    "    ]'''\n",
    "\n",
    "\n",
    "df_pp = pp.pre_process_all(df_text, pre_processing_list)\n",
    "df_pp_test = pp.pre_process_all(df_text_test, pre_processing_list)\n",
    "\n",
    "(df_tf_idf, time_tf_idf) = nlp.apply_tf_idf(df_pp_test, len(pre_processing_list))"
   ]
  },
  {
   "cell_type": "code",
   "execution_count": 29,
   "metadata": {},
   "outputs": [],
   "source": [
    "df_tf_idf.to_csv('./resultados/tf_idf.csv', index = False)\n",
    "time_tf_idf.to_csv('./resultados/tf_idf_time.csv', index = False)"
   ]
  },
  {
   "cell_type": "code",
   "execution_count": 30,
   "metadata": {},
   "outputs": [],
   "source": [
    "df_results = df_results.join(df_tf_idf)"
   ]
  },
  {
   "cell_type": "code",
   "execution_count": 31,
   "metadata": {},
   "outputs": [
    {
     "data": {
      "text/html": [
       "<div>\n",
       "<style scoped>\n",
       "    .dataframe tbody tr th:only-of-type {\n",
       "        vertical-align: middle;\n",
       "    }\n",
       "\n",
       "    .dataframe tbody tr th {\n",
       "        vertical-align: top;\n",
       "    }\n",
       "\n",
       "    .dataframe thead th {\n",
       "        text-align: right;\n",
       "    }\n",
       "</style>\n",
       "<table border=\"1\" class=\"dataframe\">\n",
       "  <thead>\n",
       "    <tr style=\"text-align: right;\">\n",
       "      <th></th>\n",
       "      <th>Overall</th>\n",
       "      <th>bert_all-MiniLM-L12-v20</th>\n",
       "      <th>USE</th>\n",
       "      <th>tf_idf0</th>\n",
       "    </tr>\n",
       "  </thead>\n",
       "  <tbody>\n",
       "    <tr>\n",
       "      <th>Overall</th>\n",
       "      <td>1.000000</td>\n",
       "      <td>-0.719582</td>\n",
       "      <td>-0.689045</td>\n",
       "      <td>-0.705009</td>\n",
       "    </tr>\n",
       "    <tr>\n",
       "      <th>bert_all-MiniLM-L12-v20</th>\n",
       "      <td>-0.719582</td>\n",
       "      <td>1.000000</td>\n",
       "      <td>0.879100</td>\n",
       "      <td>0.862534</td>\n",
       "    </tr>\n",
       "    <tr>\n",
       "      <th>USE</th>\n",
       "      <td>-0.689045</td>\n",
       "      <td>0.879100</td>\n",
       "      <td>1.000000</td>\n",
       "      <td>0.943276</td>\n",
       "    </tr>\n",
       "    <tr>\n",
       "      <th>tf_idf0</th>\n",
       "      <td>-0.705009</td>\n",
       "      <td>0.862534</td>\n",
       "      <td>0.943276</td>\n",
       "      <td>1.000000</td>\n",
       "    </tr>\n",
       "  </tbody>\n",
       "</table>\n",
       "</div>"
      ],
      "text/plain": [
       "                          Overall  bert_all-MiniLM-L12-v20       USE   tf_idf0\n",
       "Overall                  1.000000 -0.719582                -0.689045 -0.705009\n",
       "bert_all-MiniLM-L12-v20 -0.719582  1.000000                 0.879100  0.862534\n",
       "USE                     -0.689045  0.879100                 1.000000  0.943276\n",
       "tf_idf0                 -0.705009  0.862534                 0.943276  1.000000"
      ]
     },
     "execution_count": 31,
     "metadata": {},
     "output_type": "execute_result"
    }
   ],
   "source": [
    "df_results.corr()"
   ]
  },
  {
   "cell_type": "markdown",
   "metadata": {},
   "source": [
    "## Salvando resultados da correlação"
   ]
  },
  {
   "cell_type": "code",
   "execution_count": 32,
   "metadata": {},
   "outputs": [],
   "source": [
    "df_results.to_csv(\"resultados/all_results.csv\")"
   ]
  },
  {
   "cell_type": "code",
   "execution_count": 33,
   "metadata": {},
   "outputs": [
    {
     "data": {
      "text/html": [
       "<div>\n",
       "<style scoped>\n",
       "    .dataframe tbody tr th:only-of-type {\n",
       "        vertical-align: middle;\n",
       "    }\n",
       "\n",
       "    .dataframe tbody tr th {\n",
       "        vertical-align: top;\n",
       "    }\n",
       "\n",
       "    .dataframe thead th {\n",
       "        text-align: right;\n",
       "    }\n",
       "</style>\n",
       "<table border=\"1\" class=\"dataframe\">\n",
       "  <thead>\n",
       "    <tr style=\"text-align: right;\">\n",
       "      <th></th>\n",
       "      <th>Overall</th>\n",
       "      <th>bert_all-MiniLM-L12-v20</th>\n",
       "      <th>USE</th>\n",
       "      <th>tf_idf0</th>\n",
       "    </tr>\n",
       "  </thead>\n",
       "  <tbody>\n",
       "    <tr>\n",
       "      <th>Overall</th>\n",
       "      <td>1.000000</td>\n",
       "      <td>-0.719582</td>\n",
       "      <td>-0.689045</td>\n",
       "      <td>-0.705009</td>\n",
       "    </tr>\n",
       "    <tr>\n",
       "      <th>bert_all-MiniLM-L12-v20</th>\n",
       "      <td>-0.719582</td>\n",
       "      <td>1.000000</td>\n",
       "      <td>0.879100</td>\n",
       "      <td>0.862534</td>\n",
       "    </tr>\n",
       "    <tr>\n",
       "      <th>USE</th>\n",
       "      <td>-0.689045</td>\n",
       "      <td>0.879100</td>\n",
       "      <td>1.000000</td>\n",
       "      <td>0.943276</td>\n",
       "    </tr>\n",
       "    <tr>\n",
       "      <th>tf_idf0</th>\n",
       "      <td>-0.705009</td>\n",
       "      <td>0.862534</td>\n",
       "      <td>0.943276</td>\n",
       "      <td>1.000000</td>\n",
       "    </tr>\n",
       "  </tbody>\n",
       "</table>\n",
       "</div>"
      ],
      "text/plain": [
       "                          Overall  bert_all-MiniLM-L12-v20       USE   tf_idf0\n",
       "Overall                  1.000000 -0.719582                -0.689045 -0.705009\n",
       "bert_all-MiniLM-L12-v20 -0.719582  1.000000                 0.879100  0.862534\n",
       "USE                     -0.689045  0.879100                 1.000000  0.943276\n",
       "tf_idf0                 -0.705009  0.862534                 0.943276  1.000000"
      ]
     },
     "execution_count": 33,
     "metadata": {},
     "output_type": "execute_result"
    }
   ],
   "source": [
    "corr = df_results.corr()\n",
    "corr"
   ]
  },
  {
   "cell_type": "code",
   "execution_count": 34,
   "metadata": {},
   "outputs": [],
   "source": [
    "corr.to_csv(\"resultados/pearson_corr.csv\")"
   ]
  }
 ],
 "metadata": {
  "kernelspec": {
   "display_name": "Python 3.9.7 64-bit ('tf-gpu')",
   "language": "python",
   "name": "python3"
  },
  "language_info": {
   "codemirror_mode": {
    "name": "ipython",
    "version": 3
   },
   "file_extension": ".py",
   "mimetype": "text/x-python",
   "name": "python",
   "nbconvert_exporter": "python",
   "pygments_lexer": "ipython3",
   "version": "3.9.7"
  },
  "orig_nbformat": 4,
  "vscode": {
   "interpreter": {
    "hash": "3e4fd68c5b500d0b4e8ed2f5ae1c49e05f6d7697521de308a3df7f212d14a9b2"
   }
  }
 },
 "nbformat": 4,
 "nbformat_minor": 2
}
